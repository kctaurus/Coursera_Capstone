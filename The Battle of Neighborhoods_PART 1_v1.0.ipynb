{
 "cells": [
  {
   "cell_type": "markdown",
   "metadata": {},
   "source": [
    "# 1. Introduction\n",
    "## The State of Ohio\n",
    "##### Ohio is a Midwestern state in the Great Lakes region of the United States. Of the fifty states, it is the 34th largest by area, the seventh most populous, and the tenth most densely populated. The state's capital and largest city is Columbus. Ohio is bordered by Pennsylvania to the east, Michigan to the northwest, Lake Erie to the north, Indiana to the west, Kentucky on the south, and West Virginia on the southeast."
   ]
  },
  {
   "cell_type": "markdown",
   "metadata": {},
   "source": [
    "## A Tale of two Cities – Blue Ash & Mason\n",
    "##### Blue Ash is a city in Hamilton County, Ohio, United States, and is an inner suburb of Cincinnati, which is located to the south. Blue Ash is located at 39°14′50″N 84°22′34″W. Blue Ash can be reached by Interstate 71 to the east, Interstate 275 to the north, and Ronald Reagan Cross County Highway to the south. \n",
    "##### Mason is a city in southwestern Warren County, Ohio, United States, approximately 22 miles (35 km) from downtown Cincinnati. Mason is located at 39°21′29″N 84°18′43″W. Mason is served by one interstate, I-71\n"
   ]
  },
  {
   "cell_type": "markdown",
   "metadata": {},
   "source": [
    "# 2. Problem Statement - The best choice to make\n",
    "### Background: \n",
    "##### When a family moves from one location to another due to change of job or host of other reasons, they would be eager to find out more about the place they are moving to, including schools, rentals, property, commute, safety, restaurants etc.\n",
    "\n",
    "### Problem Statement:\n",
    "##### Let’s help families that are moving to suburbs of Cincinnati, Ohio to make a choice between the two of the top ten suburbs - the city of Blue Ash Vs the city of Mason.\n",
    "\n",
    "### Summary:\n",
    "##### Let’s analyze, visualize and evaluate the cities based on the following key parameters:\n",
    "##### 1. Education\n",
    "##### 2. Healthcare\n",
    "##### 3. Crime & Safety\n",
    "##### 4. Occupations\n",
    "##### 5. Properties and Rentals\n",
    "##### 6. Restaurants\n"
   ]
  },
  {
   "cell_type": "markdown",
   "metadata": {},
   "source": [
    "# 3. Data Requirements, Collection & Analysis"
   ]
  },
  {
   "cell_type": "markdown",
   "metadata": {},
   "source": [
    "#### Let’s see how data for each parameters listed above will be sourced, analyzed and visualized to help make a decision:"
   ]
  },
  {
   "cell_type": "markdown",
   "metadata": {},
   "source": [
    "<img src=\"https://nbviewer.jupyter.org/github/kctaurus/Coursera_Capstone/blob/master/Data%201.jpg\" width=1500>"
   ]
  },
  {
   "cell_type": "markdown",
   "metadata": {},
   "source": [
    "<img src=\"https://nbviewer.jupyter.org/github/kctaurus/Coursera_Capstone/blob/master/Data%202.jpg\" width=1500>\n"
   ]
  },
  {
   "cell_type": "markdown",
   "metadata": {},
   "source": [
    "### *For more details, please do download my presentation and review*\n",
    "### https://github.com/kctaurus/Coursera_Capstone/blob/master/The%20Battle%20of%20Neighborhoods_PART%201_v1.0.pptx"
   ]
  },
  {
   "cell_type": "code",
   "execution_count": null,
   "metadata": {},
   "outputs": [],
   "source": []
  }
 ],
 "metadata": {
  "kernelspec": {
   "display_name": "Python",
   "language": "python",
   "name": "conda-env-python-py"
  },
  "language_info": {
   "codemirror_mode": {
    "name": "ipython",
    "version": 3
   },
   "file_extension": ".py",
   "mimetype": "text/x-python",
   "name": "python",
   "nbconvert_exporter": "python",
   "pygments_lexer": "ipython3",
   "version": "3.6.7"
  }
 },
 "nbformat": 4,
 "nbformat_minor": 4
}
